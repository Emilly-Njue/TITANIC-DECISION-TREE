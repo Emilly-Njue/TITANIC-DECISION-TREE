{
 "cells": [
  {
   "cell_type": "markdown",
   "metadata": {},
   "source": [
    "## **DECISION TREE**\n",
    "\n",
    "\n",
    "Exercise: Build decision tree model to predict survival based on certain parameters\n",
    "\n",
    "![titanic](titanic.jpg)\n",
    "\n",
    "CSV file is available to download at https://github.com/codebasics/py/blob/master/ML/9_decision_tree/Exercise/titanic.csv\n",
    "\n",
    "In this file using following columns build a model to predict if person would survive or not,\n",
    "Pclass\n",
    "Sex\n",
    "Age\n",
    "Fare\n",
    "Calculate score of your model"
   ]
  },
  {
   "cell_type": "code",
   "execution_count": null,
   "metadata": {},
   "outputs": [],
   "source": [
    "#"
   ]
  }
 ],
 "metadata": {
  "language_info": {
   "name": "python"
  },
  "orig_nbformat": 4
 },
 "nbformat": 4,
 "nbformat_minor": 2
}
